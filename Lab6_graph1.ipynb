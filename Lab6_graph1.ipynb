{
 "cells": [
  {
   "cell_type": "code",
   "execution_count": 16,
   "id": "78d98edb-a3fb-4805-8af8-732637ad16ed",
   "metadata": {
    "tags": []
   },
   "outputs": [
    {
     "name": "stdout",
     "output_type": "stream",
     "text": [
      "{0: [], 1: [], 2: [], 3: [], 4: [], 5: [], 6: [], 7: [], 8: []}\n",
      "{0: [1, 3, 8], 1: [0, 7], 2: [3, 5, 7], 3: [0, 2, 4], 4: [3, 8], 5: [2, 6], 6: [5], 7: [1, 2], 8: [0, 4]}\n"
     ]
    }
   ],
   "source": [
    "#Read file\n",
    "f=open(\"g.txt\")\n",
    "vertex_and_edges=f.readline()\n",
    "#print(vertex_and_edges.split())\n",
    "vertex = int(vertex_and_edges.split()[0])\n",
    "edges = int(vertex_and_edges.split()[1])\n",
    "#print(vertex)\n",
    "\n",
    "\n",
    "List={}\n",
    "for i in range(vertex):\n",
    "    List[i]= []\n",
    "print (List)\n",
    "\n",
    "\n",
    "#popular graph data in matrix\n",
    "\n",
    "for line in f.readlines():\n",
    "    u=int(line.split()[0])\n",
    "    v=int(line.split()[1])\n",
    "    List[u].append(v)\n",
    "    List[v].append(u)\n",
    "print(List)\n",
    "   "
   ]
  },
  {
   "cell_type": "code",
   "execution_count": null,
   "id": "f14bc5a4-b054-4410-9fe4-9ee50f073d38",
   "metadata": {},
   "outputs": [],
   "source": []
  },
  {
   "cell_type": "code",
   "execution_count": null,
   "id": "17229997-e4ea-4001-a5d9-d3d986a08f8e",
   "metadata": {},
   "outputs": [],
   "source": []
  }
 ],
 "metadata": {
  "kernelspec": {
   "display_name": "Python 3 (ipykernel)",
   "language": "python",
   "name": "python3"
  },
  "language_info": {
   "codemirror_mode": {
    "name": "ipython",
    "version": 3
   },
   "file_extension": ".py",
   "mimetype": "text/x-python",
   "name": "python",
   "nbconvert_exporter": "python",
   "pygments_lexer": "ipython3",
   "version": "3.11.5"
  }
 },
 "nbformat": 4,
 "nbformat_minor": 5
}
