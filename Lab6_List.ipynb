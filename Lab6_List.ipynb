{
 "cells": [
  {
   "cell_type": "code",
   "execution_count": 4,
   "id": "96823a74-fd0e-44ca-9a71-9c5c8c3a658d",
   "metadata": {
    "tags": []
   },
   "outputs": [
    {
     "name": "stdout",
     "output_type": "stream",
     "text": [
      "['9', '10']\n",
      "[[0, 0, 0, 0, 0, 0, 0, 0, 0], [0, 0, 0, 0, 0, 0, 0, 0, 0], [0, 0, 0, 0, 0, 0, 0, 0, 0], [0, 0, 0, 0, 0, 0, 0, 0, 0], [0, 0, 0, 0, 0, 0, 0, 0, 0], [0, 0, 0, 0, 0, 0, 0, 0, 0], [0, 0, 0, 0, 0, 0, 0, 0, 0], [0, 0, 0, 0, 0, 0, 0, 0, 0], [0, 0, 0, 0, 0, 0, 0, 0, 0]]\n",
      "[0, 1, 0, 1, 0, 0, 0, 0, 1]\n",
      "[1, 0, 0, 0, 0, 0, 0, 1, 0]\n",
      "[0, 0, 0, 1, 0, 1, 0, 1, 0]\n",
      "[1, 0, 1, 0, 1, 0, 0, 0, 0]\n",
      "[0, 0, 0, 1, 0, 0, 0, 0, 1]\n",
      "[0, 0, 1, 0, 0, 0, 1, 0, 0]\n",
      "[0, 0, 0, 0, 0, 1, 0, 0, 0]\n",
      "[0, 1, 1, 0, 0, 0, 0, 0, 0]\n",
      "[1, 0, 0, 0, 1, 0, 0, 0, 0]\n"
     ]
    }
   ],
   "source": [
    "#Read file\n",
    "f=open(\"g.txt\")\n",
    "vertex_and_edges=f.readline()\n",
    "print(vertex_and_edges.split())\n",
    "vertex = int(vertex_and_edges.split()[0])\n",
    "edges = int(vertex_and_edges.split()[1])\n",
    "\n",
    "#creat empty matrix\n",
    "graph=[]\n",
    "for i in range(vertex):\n",
    "    row=[]\n",
    "\n",
    "    for j in range(vertex):\n",
    "        row.append(0)\n",
    "    #print(row)\n",
    "    graph.append(row)\n",
    "print(graph)\n",
    "\n",
    "#popular graph data in matrix\n",
    "\n",
    "for line in f.readlines():\n",
    "    u=int(line.split()[0])\n",
    "    v=int(line.split()[1])\n",
    "    graph[u][v]=1\n",
    "    graph[v][u]=1\n",
    "\n",
    "for row in graph:\n",
    "    print(row)"
   ]
  },
  {
   "cell_type": "code",
   "execution_count": null,
   "id": "88592490-0ea0-4532-9cae-3cc976a6e4ce",
   "metadata": {},
   "outputs": [],
   "source": []
  },
  {
   "cell_type": "code",
   "execution_count": null,
   "id": "cf3e422e-542a-4e81-9fdc-633b47777992",
   "metadata": {},
   "outputs": [],
   "source": []
  },
  {
   "cell_type": "code",
   "execution_count": null,
   "id": "64b5da11-de6d-490f-bc59-a076e68afd6f",
   "metadata": {},
   "outputs": [],
   "source": []
  }
 ],
 "metadata": {
  "kernelspec": {
   "display_name": "Python 3 (ipykernel)",
   "language": "python",
   "name": "python3"
  },
  "language_info": {
   "codemirror_mode": {
    "name": "ipython",
    "version": 3
   },
   "file_extension": ".py",
   "mimetype": "text/x-python",
   "name": "python",
   "nbconvert_exporter": "python",
   "pygments_lexer": "ipython3",
   "version": "3.11.5"
  }
 },
 "nbformat": 4,
 "nbformat_minor": 5
}
